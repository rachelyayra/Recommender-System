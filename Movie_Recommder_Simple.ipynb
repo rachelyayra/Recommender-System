{
  "nbformat": 4,
  "nbformat_minor": 0,
  "metadata": {
    "colab": {
      "name": "movie recommder.ipynb",
      "provenance": [],
      "collapsed_sections": [],
      "authorship_tag": "ABX9TyPJawCr44c57LFyrWNs6cAN",
      "include_colab_link": true
    },
    "kernelspec": {
      "name": "python3",
      "display_name": "Python 3"
    },
    "language_info": {
      "name": "python"
    }
  },
  "cells": [
    {
      "cell_type": "markdown",
      "metadata": {
        "id": "view-in-github",
        "colab_type": "text"
      },
      "source": [
        "<a href=\"https://colab.research.google.com/github/rachelyayra/Recommender-System/blob/main/Movie_Recommder_Simple.ipynb\" target=\"_parent\"><img src=\"https://colab.research.google.com/assets/colab-badge.svg\" alt=\"Open In Colab\"/></a>"
      ]
    },
    {
      "cell_type": "markdown",
      "metadata": {
        "id": "hltrsyFD0L0F"
      },
      "source": [
        "**Movie Recommender**\n",
        "\n",
        "This model recomends movies to a user based of whether or not they liked one movie"
      ]
    },
    {
      "cell_type": "code",
      "metadata": {
        "id": "PEqEZXRwLVUT"
      },
      "source": [
        "#data extraction and cleaning\n",
        "#build the model\n",
        "#build software infrustracture"
      ],
      "execution_count": null,
      "outputs": []
    },
    {
      "cell_type": "code",
      "metadata": {
        "id": "1BeAM5qJoTX0"
      },
      "source": [
        "import pandas as pd\n",
        "import numpy as np\n",
        "from sklearn.feature_extraction.text import CountVectorizer\n",
        "from sklearn.metrics.pairwise import cosine_similarity"
      ],
      "execution_count": 31,
      "outputs": []
    },
    {
      "cell_type": "code",
      "metadata": {
        "colab": {
          "base_uri": "https://localhost:8080/"
        },
        "id": "xj_Y6dGtNLkM",
        "outputId": "7ac97161-a8f1-481d-9eb8-aab453c1fae5"
      },
      "source": [
        "from google.colab import drive\n",
        "drive.mount('/content/drive')"
      ],
      "execution_count": 2,
      "outputs": [
        {
          "output_type": "stream",
          "name": "stdout",
          "text": [
            "Drive already mounted at /content/drive; to attempt to forcibly remount, call drive.mount(\"/content/drive\", force_remount=True).\n"
          ]
        }
      ]
    },
    {
      "cell_type": "code",
      "metadata": {
        "id": "YcDRzs_Lnp9r"
      },
      "source": [
        "#step 1: Read csv files\n",
        "df = pd.read_csv('/content/drive/My Drive/movie_rec/movie_dataset.csv')\n",
        "df.head()"
      ],
      "execution_count": null,
      "outputs": []
    },
    {
      "cell_type": "code",
      "metadata": {
        "id": "s1h5AiWrpNoA"
      },
      "source": [
        "#Select features\n",
        "feature_arr = ['keywords','cast','genres','director']"
      ],
      "execution_count": 21,
      "outputs": []
    },
    {
      "cell_type": "code",
      "metadata": {
        "id": "a_S3a5dTuVJ8"
      },
      "source": [
        "for feature in feature_arr:\n",
        "  df[feature] = df[feature].fillna('')"
      ],
      "execution_count": 27,
      "outputs": []
    },
    {
      "cell_type": "code",
      "metadata": {
        "id": "9PCvi-89s-nG"
      },
      "source": [
        "#creating new combined features column\n",
        "def combine_features(row):\n",
        "  try:\n",
        "    return row['keywords']+' '+row['cast']+' '+row['genres']+' '+row['director']\n",
        "  except:\n",
        "    print(row)"
      ],
      "execution_count": 28,
      "outputs": []
    },
    {
      "cell_type": "code",
      "metadata": {
        "id": "tlfAqseStGMA"
      },
      "source": [
        "df[\"combine_featues\"] = df.apply(combine_features,axis = 1)\n",
        "df[\"combine_featues\"]"
      ],
      "execution_count": null,
      "outputs": []
    },
    {
      "cell_type": "code",
      "metadata": {
        "id": "ONDKhW5Gve1x"
      },
      "source": [
        "#create count of features\n",
        "vectorizer = CountVectorizer()\n",
        "matrix = vectorizer.fit_transform(df[\"combine_featues\"])"
      ],
      "execution_count": 33,
      "outputs": []
    },
    {
      "cell_type": "code",
      "metadata": {
        "id": "FD4OoyYJwgst"
      },
      "source": [
        "#cosine similarity\n",
        "similarity_matrix = cosine_similarity(matrix)\n",
        "similarity_matrix"
      ],
      "execution_count": null,
      "outputs": []
    },
    {
      "cell_type": "code",
      "metadata": {
        "id": "sG5oDKAFyCLA"
      },
      "source": [
        "#movies similar to movie user likes\n",
        "user_likes = 'Avatar'\n",
        "#get the index of the users liked movie\n",
        "user_like_index = df[df.title == user_likes]['index'][0]"
      ],
      "execution_count": 57,
      "outputs": []
    },
    {
      "cell_type": "code",
      "metadata": {
        "id": "iiBHlANQzu9Y"
      },
      "source": [
        "#find similar movies from similarity matrix\n",
        "similar_movies = list(enumerate(similarity_matrix[user_like_index]))\n",
        "sorted_movies = sorted(similar_movies,key = lambda x : x[1] ,reverse=True)\n",
        "movie_titles = []\n",
        "movie_title = df.iloc[0]['title']\n",
        "count = 0\n",
        "limit = 50\n",
        "\n",
        "for i in sorted_movies:\n",
        "  movie_title = df.iloc[i[0]]['title']\n",
        "  print(movie_title)\n",
        "  movie_titles.append(movie_title)\n",
        "  count += 1\n",
        "  if count > limit:\n",
        "    break\n"
      ],
      "execution_count": null,
      "outputs": []
    },
    {
      "cell_type": "code",
      "metadata": {
        "colab": {
          "base_uri": "https://localhost:8080/"
        },
        "id": "g4RB278Z8KWl",
        "outputId": "73df5ef9-604e-4b54-e4d3-92b971931b1b"
      },
      "source": [
        "print(movie_titles)"
      ],
      "execution_count": 105,
      "outputs": [
        {
          "output_type": "stream",
          "name": "stdout",
          "text": [
            "['Avatar', 'Guardians of the Galaxy', 'Aliens', 'Star Wars: Clone Wars: Volume 1', 'Star Trek Into Darkness', 'Star Trek Beyond', 'Alien', 'Lockout', 'Jason X', 'The Helix... Loaded', 'Moonraker', 'Planet of the Apes', 'Galaxy Quest', 'Gravity', 'Alien³', 'Jupiter Ascending', 'The Wolverine', 'Silent Running', 'Zathura: A Space Adventure', 'Trekkies', 'Cargo', 'Wing Commander', 'Star Trek', 'Lost in Space', 'Babylon A.D.', 'The Fifth Element', 'Oblivion', 'Titan A.E.', 'AVP: Alien vs. Predator', 'The Empire Strikes Back', 'Dragonball Evolution', 'Superman Returns', 'Divergent', 'John Carter', 'The Black Hole', 'The Ice Pirates', 'Memoirs of an Invisible Man', 'Starship Troopers', \"The Astronaut's Wife\", 'Machete Kills', 'Soldier', 'The Abyss', 'Damnation Alley', 'Men in Black', 'Space Cowboys', 'Space Dogs', 'The Time Machine', 'Sheena', 'Captain America: Civil War', 'Star Trek: Insurrection', 'Oz: The Great and Powerful']\n"
          ]
        },
        {
          "output_type": "execute_result",
          "data": {
            "text/plain": [
              "51"
            ]
          },
          "metadata": {},
          "execution_count": 105
        }
      ]
    }
  ]
}